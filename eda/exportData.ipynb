{
 "cells": [
  {
   "cell_type": "code",
   "execution_count": 1,
   "metadata": {},
   "outputs": [],
   "source": [
    "# Export npy file as a csv file\n",
    "\n",
    "import numpy as np\n",
    "import csv\n",
    "import sys\n",
    "\n",
    "X_train = np.load('X_train.npy')\n",
    "X_test = np.load('X_test.npy')\n",
    "y_train = np.load('y_train.npy')\n",
    "\n",
    "# Export X_train\n",
    "with open('X_train.csv', 'w') as f:\n",
    "    writer = csv.writer(f)\n",
    "    writer.writerows(X_train)\n",
    "\n",
    "# Export X_test\n",
    "with open('X_test.csv', 'w') as f:\n",
    "    writer = csv.writer(f)\n",
    "    writer.writerows(X_test)\n",
    "\n",
    "# Export y_train\n",
    "with open('y_train.csv', 'w') as f:\n",
    "    writer = csv.writer(f)\n",
    "    writer.writerows(y_train)"
   ]
  }
 ],
 "metadata": {
  "kernelspec": {
   "display_name": "Python 3",
   "language": "python",
   "name": "python3"
  },
  "language_info": {
   "codemirror_mode": {
    "name": "ipython",
    "version": 3
   },
   "file_extension": ".py",
   "mimetype": "text/x-python",
   "name": "python",
   "nbconvert_exporter": "python",
   "pygments_lexer": "ipython3",
   "version": "3.11.9"
  }
 },
 "nbformat": 4,
 "nbformat_minor": 2
}
