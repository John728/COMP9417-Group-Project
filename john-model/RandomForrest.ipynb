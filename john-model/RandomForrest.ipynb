{
 "cells": [
  {
   "cell_type": "code",
   "execution_count": 4,
   "metadata": {},
   "outputs": [
    {
     "name": "stdout",
     "output_type": "stream",
     "text": [
      "Validation Accuracy: 0.06\n",
      "Validation Log Loss: 11.53317043036741\n"
     ]
    },
    {
     "name": "stderr",
     "output_type": "stream",
     "text": [
      "C:\\Users\\johnh\\AppData\\Local\\Packages\\PythonSoftwareFoundation.Python.3.11_qbz5n2kfra8p0\\LocalCache\\local-packages\\Python311\\site-packages\\sklearn\\metrics\\_classification.py:2981: UserWarning: The y_pred values do not sum to one. Starting from 1.5 thiswill result in an error.\n",
      "  warnings.warn(\n"
     ]
    }
   ],
   "source": [
    "import numpy as np\n",
    "from sklearn.ensemble import RandomForestClassifier\n",
    "from sklearn.model_selection import train_test_split\n",
    "from sklearn.metrics import accuracy_score, log_loss\n",
    "\n",
    "# Load the data\n",
    "X_train = np.load(\"X_train_normalized.npy\")\n",
    "Y_train = np.load(\"Y_train.npy\")\n",
    "X_test  = np.load(\"X_test_normalized.npy\")\n",
    "\n",
    "# Initialize the Random Forest model\n",
    "rf_clf = RandomForestClassifier(n_estimators=1000, random_state=42)\n",
    "\n",
    "# Split the training data for validation (if necessary)\n",
    "X_train_part, X_val_part, Y_train_part, Y_val_part = train_test_split(\n",
    "    X_train, Y_train, test_size=0.2, random_state=42\n",
    ")\n",
    "\n",
    "# Train the model\n",
    "rf_clf.fit(X_train_part, Y_train_part)\n",
    "\n",
    "# Validate the model's performance\n",
    "Y_pred_val = rf_clf.predict(X_val_part)\n",
    "print(\"Validation Accuracy:\", accuracy_score(Y_val_part, Y_pred_val))\n",
    "print(\"Validation Log Loss:\", log_loss(Y_val_part, Y_pred_val))\n",
    "\n",
    "# Generate predictions on the test set\n",
    "# Y_pred_test = rf_clf.predict(X_test)\n"
   ]
  }
 ],
 "metadata": {
  "kernelspec": {
   "display_name": "Python 3",
   "language": "python",
   "name": "python3"
  },
  "language_info": {
   "codemirror_mode": {
    "name": "ipython",
    "version": 3
   },
   "file_extension": ".py",
   "mimetype": "text/x-python",
   "name": "python",
   "nbconvert_exporter": "python",
   "pygments_lexer": "ipython3",
   "version": "3.11.9"
  }
 },
 "nbformat": 4,
 "nbformat_minor": 2
}
